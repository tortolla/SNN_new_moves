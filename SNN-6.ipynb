{
  "nbformat": 4,
  "nbformat_minor": 0,
  "metadata": {
    "colab": {
      "provenance": [],
      "collapsed_sections": [
        "i_1X7qarNK8n"
      ]
    },
    "kernelspec": {
      "name": "python3",
      "display_name": "Python 3"
    },
    "language_info": {
      "name": "python"
    }
  },
  "cells": [
    {
      "cell_type": "markdown",
      "source": [
        "#Получаем данные из датасета#"
      ],
      "metadata": {
        "id": "GhDgBbMFdrKV"
      }
    },
    {
      "cell_type": "code",
      "source": [
        "# brian2 is a simulator for spiking neural networks. It allows to simulate neuraldinamics\n",
        "# using custom differential equations, but it is very computationally intensive.\n",
        "# https://brian2.readthedocs.io/en/stable/resources/tutorials/index.html\n",
        "\n",
        "!pip install brian2"
      ],
      "metadata": {
        "colab": {
          "base_uri": "https://localhost:8080/"
        },
        "id": "lJ-ORvYotPsb",
        "outputId": "e5612e0b-d009-4cbe-a612-fb4aac13a464"
      },
      "execution_count": 43,
      "outputs": [
        {
          "output_type": "stream",
          "name": "stdout",
          "text": [
            "Requirement already satisfied: brian2 in /usr/local/lib/python3.10/dist-packages (2.6.0)\n",
            "Requirement already satisfied: numpy>=1.21 in /usr/local/lib/python3.10/dist-packages (from brian2) (1.25.2)\n",
            "Requirement already satisfied: cython>=0.29.21 in /usr/local/lib/python3.10/dist-packages (from brian2) (3.0.9)\n",
            "Requirement already satisfied: sympy>=1.2 in /usr/local/lib/python3.10/dist-packages (from brian2) (1.12)\n",
            "Requirement already satisfied: pyparsing in /usr/local/lib/python3.10/dist-packages (from brian2) (3.1.2)\n",
            "Requirement already satisfied: jinja2>=2.7 in /usr/local/lib/python3.10/dist-packages (from brian2) (3.1.3)\n",
            "Requirement already satisfied: setuptools>=61 in /usr/local/lib/python3.10/dist-packages (from brian2) (67.7.2)\n",
            "Requirement already satisfied: packaging in /usr/local/lib/python3.10/dist-packages (from brian2) (24.0)\n",
            "Requirement already satisfied: MarkupSafe>=2.0 in /usr/local/lib/python3.10/dist-packages (from jinja2>=2.7->brian2) (2.1.5)\n",
            "Requirement already satisfied: mpmath>=0.19 in /usr/local/lib/python3.10/dist-packages (from sympy>=1.2->brian2) (1.3.0)\n"
          ]
        }
      ]
    },
    {
      "cell_type": "code",
      "source": [
        "import numpy as np\n",
        "import random\n",
        "\n",
        "import numpy as np\n",
        "import random\n",
        "\n",
        "def load_data():\n",
        "    data = np.genfromtxt('/content/dataset.csv', delimiter='\\t', dtype=None, encoding=None)\n",
        "\n",
        "    filtered_data = []\n",
        "    for i in range(0, len(data), 14):\n",
        "        arrays = []\n",
        "        arrays.append(data[i:i+13])\n",
        "        arrays = np.array(arrays)\n",
        "        filtered_data.append(arrays)\n",
        "\n",
        "    #filtered_array = np.array(filtered_data)\n",
        "    filtered_array = np.squeeze(np.array(filtered_data), axis=1)\n",
        "\n",
        "    n1 = len(filtered_data)\n",
        "    data_size = int(0.8 * n1)\n",
        "\n",
        "    x_train = filtered_array[:data_size]\n",
        "    x_test = filtered_array[data_size:]\n",
        "\n",
        "    filtered_labels = [row for index, row in enumerate(data) if (index + 1) % 14 == 0]\n",
        "    filtered_labels_array = np.array(filtered_labels)\n",
        "    n2 = len(filtered_labels_array)\n",
        "    labels_size = int(0.8 * n2)\n",
        "    y = []\n",
        "    for i in range(len(filtered_labels_array)):\n",
        "        y.append(filtered_labels_array[i][0])\n",
        "    y = np.array(y)\n",
        "    y_train = y[:labels_size]\n",
        "    y_test = y[labels_size:]\n",
        "\n",
        "    data_train = (x_train, y_train)\n",
        "    data_test = (x_test, y_test)\n",
        "\n",
        "    return data_train, data_test\n",
        "\n",
        "\n",
        "classes = [0,1,2,3]\n",
        "classes = random.sample(classes, 4)\n",
        "\n",
        "\n",
        "(x_train, y_train), (x_test, y_test) = load_data()\n",
        "\n",
        "x_train = x_train / 4\n",
        "x_test = x_test / 4\n",
        "\n",
        "print(y_train.shape)\n",
        "\n",
        "x_train = x_train[0:2, :, :]\n",
        "x_test = x_test[0:2, :, :]\n",
        "# Получение среза в виде двух элементов массива\n",
        "y_train = y_train[0:2]\n",
        "y_test = y_test[0:2]\n",
        "\n",
        "print(x_train.shape)\n",
        "print(x_test.shape)\n",
        "print(y_test.shape)\n",
        "\n",
        "\n",
        "#x_train = x_train[np.isin(y_train,classes[0])] | x_train[np.isin(y_train,classes[1])] #|  x_train[np.isin(y_train,classes[2])] |  x_train[np.isin(y_train,classes[3])]\n",
        "\n",
        "# y_train = y_train[np.isin(y_train,classes[0])]\n",
        "# x_test = x_test[np.isin(y_test,classes[0])]\n",
        "# y_test = y_test[np.isin(y_test,classes[0])]\n",
        "\n",
        "# x_train = x_train / 4\n",
        "# x_test = x_test / 4\n",
        "\n",
        "#print(x_test[1])\n",
        "#print(x_train)\n",
        "# print(x_train[:5])\n",
        "# print('!!!!!!!!!!!!!!!!!!!!!!!!!!!!!!!!!!!!!!!!!')\n",
        "# print(x_test[:5])\n",
        "# print('!!!!!!!!!!!!!!!!!!!!!!!!!!!!!!!!!!!!!!!!!')\n",
        "# print(y_train[:5])\n",
        "# print('!!!!!!!!!!!!!!!!!!!!!!!!!!!!!!!!!!!!!!!!!')\n",
        "# print(y_test[:5])\n",
        "# print('!!!!!!!!!!!!!!!!!!!!!!!!!!!!!!!!!!!!!!!!!')"
      ],
      "metadata": {
        "id": "EIlpUkrKqNxv",
        "colab": {
          "base_uri": "https://localhost:8080/"
        },
        "outputId": "291e0ac3-7c4c-47f5-a5ce-b367638f76f8"
      },
      "execution_count": 44,
      "outputs": [
        {
          "output_type": "stream",
          "name": "stdout",
          "text": [
            "(470,)\n",
            "(2, 13, 13)\n",
            "(2, 13, 13)\n",
            "(2,)\n"
          ]
        }
      ]
    },
    {
      "cell_type": "markdown",
      "source": [
        "#Задаем параметры нейронов, их модель, параметры STDP и модель STDP#"
      ],
      "metadata": {
        "id": "Zx991HnVL1dK"
      }
    },
    {
      "cell_type": "code",
      "source": [
        "!pip install brian2"
      ],
      "metadata": {
        "colab": {
          "base_uri": "https://localhost:8080/"
        },
        "id": "jzZl14jTxi6m",
        "outputId": "f64ad9ab-824f-4bb9-eae0-5542659a750a"
      },
      "execution_count": 45,
      "outputs": [
        {
          "output_type": "stream",
          "name": "stdout",
          "text": [
            "Requirement already satisfied: brian2 in /usr/local/lib/python3.10/dist-packages (2.6.0)\n",
            "Requirement already satisfied: numpy>=1.21 in /usr/local/lib/python3.10/dist-packages (from brian2) (1.25.2)\n",
            "Requirement already satisfied: cython>=0.29.21 in /usr/local/lib/python3.10/dist-packages (from brian2) (3.0.9)\n",
            "Requirement already satisfied: sympy>=1.2 in /usr/local/lib/python3.10/dist-packages (from brian2) (1.12)\n",
            "Requirement already satisfied: pyparsing in /usr/local/lib/python3.10/dist-packages (from brian2) (3.1.2)\n",
            "Requirement already satisfied: jinja2>=2.7 in /usr/local/lib/python3.10/dist-packages (from brian2) (3.1.3)\n",
            "Requirement already satisfied: setuptools>=61 in /usr/local/lib/python3.10/dist-packages (from brian2) (67.7.2)\n",
            "Requirement already satisfied: packaging in /usr/local/lib/python3.10/dist-packages (from brian2) (24.0)\n",
            "Requirement already satisfied: MarkupSafe>=2.0 in /usr/local/lib/python3.10/dist-packages (from jinja2>=2.7->brian2) (2.1.5)\n",
            "Requirement already satisfied: mpmath>=0.19 in /usr/local/lib/python3.10/dist-packages (from sympy>=1.2->brian2) (1.3.0)\n"
          ]
        }
      ]
    },
    {
      "cell_type": "code",
      "source": [
        "from tensorflow.keras.datasets import mnist\n",
        "from brian2 import *\n",
        "import brian2.numpy_ as np\n",
        "import matplotlib.pyplot as plt\n",
        "from sklearn.ensemble import RandomForestClassifier\n",
        "from sklearn.metrics import accuracy_score, confusion_matrix\n",
        "\n",
        "import time\n",
        "import random"
      ],
      "metadata": {
        "id": "WwMHria_w532"
      },
      "execution_count": 46,
      "outputs": []
    },
    {
      "cell_type": "code",
      "execution_count": 47,
      "metadata": {
        "id": "MSDZKB2DLvKo"
      },
      "outputs": [],
      "source": [
        "n_input = 13*13 #количество входных нейронов\n",
        "n_output = 4 #количество выходных нейронов\n",
        "\n",
        "\"\"\"\n",
        "Задаем параметры модели возбуждающих нейронов\n",
        "\"\"\"\n",
        "\n",
        "v_rest_e = -60.*mV #потенциал покоя  - нейрон стремится к нему без внешнего возбуждения\n",
        "v_reset_e = -65.*mV #потенциал сброса  - потенцаил нейрона сбрасывается до него после испускания спайка\n",
        "v_thresh_e = -52.*mV #потенциал порога генерации  - уровень при потенциала, при котором нейрон генерирует свой спайк\n",
        "tau_ = 100*ms #определяет скорость реакции на входные изменения, а так же насколько быстро нейрон возвращается к своему начальному состоянию после спайка\n",
        "tau_ = 150*ms # Более длительная временная константа в контексте адаптации порогового потенциала означает, что нейрон медленно адаптируется к изменениям во входной активности. Это может быть полезно для предотвращения чрезмерной реактивности нейрона на кратковременные или незначительные изменения во входных сигналах.\n",
        "\n",
        "\n",
        "\"\"\"\n",
        "Задаем параметры STDP\n",
        "\"\"\"\n",
        "\n",
        "lr1 = 1 #коэффициент определяющий скорость обучения в модели STDP - насколько увеличивается вес, если первым активируется пресинаптический нейрон\n",
        "lr2 = 1 #коэффициент определяющий скорость обучения в модели STDP - насколько уменьшается вес, если первым активируется постсинаптический нейрон\n",
        "taupre = 20*ms #определяет время, в течение которого влияние пресинаптического спайка на синаптический вес сохраняется после его произошествия.\n",
        "taupost = taupre # определяет время, в течение которого влияние пресинаптического спайка на синаптический вес сохраняется после его произошествия.\n",
        "gmax = .05 #максимальное значение, которое может достичь синаптическая связь\n",
        "dApre = .01 #отражает вклад пресинаптчиеского спайка\n",
        "dApost = -dApre * taupre / taupost * 1.05\n",
        "dApost *= gmax #масштабирование треккеров синаптческого веса, чтобы они изменялись соответственно максимальному значению веса\n",
        "dApre *= gmax #масштабирование треккеров синаптческого веса, чтобы они изменялись соответственно максимальному значению веса\n",
        "\n",
        "\n",
        "\"\"\"\n",
        "Задаем модель возбуждающего нейрона\n",
        "\"\"\"\n",
        "\n",
        "neuron_e = '''\n",
        "            dv/dt = (ge*(0*mV-v) + (v_rest_e-v)) / (100*ms) : volt\n",
        "            dvt/dt = (v_thresh_e-vt)/(150*ms) : volt\n",
        "            dge/dt = -ge / (5*ms) : 1\n",
        "            '''\n",
        "\n",
        "\"\"\"\n",
        "Задаем адаптивный порог\n",
        "\"\"\"\n",
        "\n",
        "reset_e = '''\n",
        "        v = v_reset_e\n",
        "        vt += 3*mV\n",
        "        '''\n",
        "\n",
        "\"\"\"\n",
        "Задаем модель STDP\n",
        "\"\"\"\n",
        "\n",
        "stdp='''w : 1\n",
        "    lr1 : 1\n",
        "    lr2 : 1\n",
        "    dApre/dt = -Apre / taupre : 1 (event-driven)\n",
        "    dApost/dt = -Apost / taupost : 1 (event-driven)'''\n",
        "pre='''ge += w\n",
        "    Apre += dApre\n",
        "    w = clip(w + lr1*Apost, 0, gmax)'''\n",
        "post='''Apost += dApost\n",
        "    w = clip(w + lr2*Apre, 0, gmax)'''"
      ]
    },
    {
      "cell_type": "markdown",
      "source": [
        "#Создаем класс модели#"
      ],
      "metadata": {
        "id": "1wcgBV7rTPVo"
      }
    },
    {
      "cell_type": "markdown",
      "source": [
        "В данной модели используется концепция подгрупп нейронов, где каждая подгруппа возбуждающих нейронов ассоциирована с определенным классом. Это означает, что во время обучения активность нейронов модулируется в зависимости от того, соответствует ли подгруппа текущему целевому классу обрабатываемого образца"
      ],
      "metadata": {
        "id": "btefOcGlvE4E"
      }
    },
    {
      "cell_type": "code",
      "source": [
        "class Model():\n",
        "\n",
        "  def __init__(self, debug = False):\n",
        "\n",
        "    app = {}\n",
        "\n",
        "    app['PG'] = PoissonGroup(n_input, rates=np.zeros(n_input)*Hz, name='PG') #создаем входные Пуассоновские нейроны, пропорциональные яркости изображения\n",
        "\n",
        "    app['out_ne'] = NeuronGroup(n_output, neuron_e, threshold='v>vt', refractory=5*ms, reset=reset_e, method='euler', name='out_ne') #создадим выходные нейроны\n",
        "\n",
        "    \"\"\"\n",
        "    Соеденяем Пуассоновские нейроны с выходными нейронами\n",
        "    \"\"\"\n",
        "\n",
        "    for cl in range(n_output):\n",
        "\n",
        "            app[f'S1_{cl}'] = Synapses(app['PG'], app['out_ne'][cl:cl+1], stdp, on_pre=pre, on_post=post, method='euler', name=f'S1_{cl}') #создаем синапсы между входными нейронами и выходными нейронами\n",
        "            app[f'S1_{cl}'].connect() #соеденяем нейроны синапсами\n",
        "            app[f'S1_{cl}'].w = 'rand()*gmax' #инициализируем веса\n",
        "            app[f'S1_{cl}'].lr1 = 1 #скорость обучения\n",
        "            app[f'S1_{cl}'].lr2 = 1 #скорость обучения\n",
        "\n",
        "\n",
        "    #создаем свою сеть в brian2\n",
        "    self.net = Network(app.values())\n",
        "    self.net.run(0*second)\n",
        "\n",
        "    \"\"\"\n",
        "    Вспомогательная функция, чтобы удобней было обращаться к отдельным структурам модели по имени обьекта класса\n",
        "    \"\"\"\n",
        "\n",
        "    def __getitem__(self, key):\n",
        "        return self.net[key]\n",
        "\n",
        "    \"\"\"\n",
        "    Функция для тренировки SNN\n",
        "\n",
        "    Входные данные:\n",
        "\n",
        "    X - тренировачная часть датасета\n",
        "    targets - метки тренировочной части датасета\n",
        "    epochs - количество эпох для обучения\n",
        "    \"\"\"\n",
        "\n",
        "  def train(self, X, targets, epochs):\n",
        "\n",
        "    for ep in range(epochs):\n",
        "      for idx in range(len(X)):\n",
        "\n",
        "        yt = int(targets[idx]) #ground truth\n",
        "        print(yt)\n",
        "\n",
        "        for cl in range (len(classes)):\n",
        "\n",
        "          if cl == classes.index(yt):\n",
        "\n",
        "            self.net[f'S1_{cl}'].lr1 = 1 #STDP - устанавливаем параметры скорости обучения\n",
        "            self.net[f'S1_{cl}'].lr2 = 1 #STDP - устанавливаем параметры скорости обучения\n",
        "\n",
        "          else:\n",
        "\n",
        "            self.net[f'S1_{cl}'].lr1 = 0 #STDP - устанавливаем параметры скорости обучения\n",
        "            self.net[f'S1_{cl}'].lr2 = -1 #STDP - устанавливаем параметры скорости обучения\n",
        "\n",
        "          self.net['PG'].rates = X[idx].ravel()*Hz #устанавливаем Пуассоновские нейроны на нужное значение\n",
        "          self.net.run(0.35*second) #запускаем численный эксперимент на определенное время\n",
        "\n",
        "          self.net['PG'].rates = np.zeros(n_input)*Hz #переводим сеть в пассивное состояние - все Пуассоновские нейроны перестают генерировать спайки\n",
        "          self.net.run(0.15*second) #запускаем численный эксперимент на короткое время, чтобы стабилизировать сеть\n",
        "\n",
        "      print(f\"{idx}\")\n",
        "\n",
        "    print(\"train_is_done\")\n",
        "\n",
        "\n",
        "  \"\"\"\n",
        "  Функция оценки точности спайковой нейронной сети\n",
        "\n",
        "  Входные данные:\n",
        "\n",
        "  X - тестовая часть датасета\n",
        "  targets - метки тестовой части датасета\n",
        "  \"\"\"\n",
        "\n",
        "  def evaluate(self, X, targets):\n",
        "\n",
        "    for cl in range(len(classes)):\n",
        "\n",
        "      self.net[f'S1_{cl}'].lr1 = 0 #выключаем STDP\n",
        "      self.net[f'S1_{cl}'].lr2 = 0 #выключаем STDP\n",
        "\n",
        "    true_ans = 0 #количество правильно классифицированных картинок\n",
        "\n",
        "    for idx in range(len(X)):\n",
        "\n",
        "      print(\"test_for_started\")\n",
        "\n",
        "      yt = int(targets[idx]) #забираем правильные метки\n",
        "\n",
        "          #предсказание SNN определяем по нейрону с наибольшим количеством выходных спайков\n",
        "      print(\"Checking_spike_monitor\")\n",
        "      mon = SpikeMonitor(self.net['out_ne'], record=False, name='RM')\n",
        "      self.net.add(mon) #добавляем монитор\n",
        "\n",
        "      counts = [] #массив спайков выходных нейронов\n",
        "\n",
        "      for cl in range(len(classes)):\n",
        "        counts.append(sum(mon.count[cl,cl+1]))\n",
        "\n",
        "      if counts.index(max(counts)) == classes.index(yt):\n",
        "        true_ans+=1\n",
        "\n",
        "          #возвразаем систему в пассивный режим для стабильности\n",
        "\n",
        "      self.net['PG'].rates = np.zeros(n_input)*Hz\n",
        "      self.net.run(0.15*second)\n",
        "\n",
        "      self.net.remove(self.net['RM']) #освобождаем память от монитора\n",
        "\n",
        "      return true_ans/len(X)"
      ],
      "metadata": {
        "id": "lJbcmA2f7zfZ"
      },
      "execution_count": 52,
      "outputs": []
    },
    {
      "cell_type": "markdown",
      "source": [
        "#Основной процесс - обучение и тестирование модели#"
      ],
      "metadata": {
        "id": "i_1X7qarNK8n"
      }
    },
    {
      "cell_type": "code",
      "source": [
        "\"\"\"\n",
        "Функция, которая реализует процесс обучения и тестирования модели\n",
        "Входные данные:\n",
        "\n",
        "train_items - количество тренировочных картинок\n",
        "test_items - количество тестовых картинок\n",
        "\n",
        "\"\"\"\n",
        "\n",
        "def train_test(x_train, x_test, y_train, y_test):\n",
        "\n",
        "  model = Model()\n",
        "  model.train(x_train, y_train, 1)\n",
        "\n",
        "  accuracy = model.evaluate(x_test, y_test)\n",
        "\n",
        "  print(f\"Accuracy of SNN is:{accuracy}\")\n",
        "\n",
        "\n",
        "start = time.time()\n",
        "train_test(x_train, x_test, y_train, y_test)\n",
        "end = time.time()\n",
        "print('SNN time:', end - start)"
      ],
      "metadata": {
        "id": "G0tKV7WyNR1h",
        "colab": {
          "base_uri": "https://localhost:8080/",
          "height": 440
        },
        "outputId": "a707156d-c72d-4f43-a96b-a968bbc573c7"
      },
      "execution_count": 53,
      "outputs": [
        {
          "output_type": "stream",
          "name": "stdout",
          "text": [
            "0\n",
            "1\n",
            "1\n",
            "train_is_done\n",
            "test_for_started\n",
            "Checking_spike_monitor\n"
          ]
        },
        {
          "output_type": "error",
          "ename": "IndexError",
          "evalue": "Can only interpret 1-d indices, got 2 dimensions.",
          "traceback": [
            "\u001b[0;31m---------------------------------------------------------------------------\u001b[0m",
            "\u001b[0;31mIndexError\u001b[0m                                Traceback (most recent call last)",
            "\u001b[0;32m<ipython-input-53-0867545c3e81>\u001b[0m in \u001b[0;36m<cell line: 21>\u001b[0;34m()\u001b[0m\n\u001b[1;32m     19\u001b[0m \u001b[0;34m\u001b[0m\u001b[0m\n\u001b[1;32m     20\u001b[0m \u001b[0mstart\u001b[0m \u001b[0;34m=\u001b[0m \u001b[0mtime\u001b[0m\u001b[0;34m.\u001b[0m\u001b[0mtime\u001b[0m\u001b[0;34m(\u001b[0m\u001b[0;34m)\u001b[0m\u001b[0;34m\u001b[0m\u001b[0;34m\u001b[0m\u001b[0m\n\u001b[0;32m---> 21\u001b[0;31m \u001b[0mtrain_test\u001b[0m\u001b[0;34m(\u001b[0m\u001b[0mx_train\u001b[0m\u001b[0;34m,\u001b[0m \u001b[0mx_test\u001b[0m\u001b[0;34m,\u001b[0m \u001b[0my_train\u001b[0m\u001b[0;34m,\u001b[0m \u001b[0my_test\u001b[0m\u001b[0;34m)\u001b[0m\u001b[0;34m\u001b[0m\u001b[0;34m\u001b[0m\u001b[0m\n\u001b[0m\u001b[1;32m     22\u001b[0m \u001b[0mend\u001b[0m \u001b[0;34m=\u001b[0m \u001b[0mtime\u001b[0m\u001b[0;34m.\u001b[0m\u001b[0mtime\u001b[0m\u001b[0;34m(\u001b[0m\u001b[0;34m)\u001b[0m\u001b[0;34m\u001b[0m\u001b[0;34m\u001b[0m\u001b[0m\n\u001b[1;32m     23\u001b[0m \u001b[0mprint\u001b[0m\u001b[0;34m(\u001b[0m\u001b[0;34m'SNN time:'\u001b[0m\u001b[0;34m,\u001b[0m \u001b[0mend\u001b[0m \u001b[0;34m-\u001b[0m \u001b[0mstart\u001b[0m\u001b[0;34m)\u001b[0m\u001b[0;34m\u001b[0m\u001b[0;34m\u001b[0m\u001b[0m\n",
            "\u001b[0;32m<ipython-input-53-0867545c3e81>\u001b[0m in \u001b[0;36mtrain_test\u001b[0;34m(x_train, x_test, y_train, y_test)\u001b[0m\n\u001b[1;32m     13\u001b[0m   \u001b[0mmodel\u001b[0m\u001b[0;34m.\u001b[0m\u001b[0mtrain\u001b[0m\u001b[0;34m(\u001b[0m\u001b[0mx_train\u001b[0m\u001b[0;34m,\u001b[0m \u001b[0my_train\u001b[0m\u001b[0;34m,\u001b[0m \u001b[0;36m1\u001b[0m\u001b[0;34m)\u001b[0m\u001b[0;34m\u001b[0m\u001b[0;34m\u001b[0m\u001b[0m\n\u001b[1;32m     14\u001b[0m \u001b[0;34m\u001b[0m\u001b[0m\n\u001b[0;32m---> 15\u001b[0;31m   \u001b[0maccuracy\u001b[0m \u001b[0;34m=\u001b[0m \u001b[0mmodel\u001b[0m\u001b[0;34m.\u001b[0m\u001b[0mevaluate\u001b[0m\u001b[0;34m(\u001b[0m\u001b[0mx_test\u001b[0m\u001b[0;34m,\u001b[0m \u001b[0my_test\u001b[0m\u001b[0;34m)\u001b[0m\u001b[0;34m\u001b[0m\u001b[0;34m\u001b[0m\u001b[0m\n\u001b[0m\u001b[1;32m     16\u001b[0m \u001b[0;34m\u001b[0m\u001b[0m\n\u001b[1;32m     17\u001b[0m   \u001b[0mprint\u001b[0m\u001b[0;34m(\u001b[0m\u001b[0;34mf\"Accuracy of SNN is:{accuracy}\"\u001b[0m\u001b[0;34m)\u001b[0m\u001b[0;34m\u001b[0m\u001b[0;34m\u001b[0m\u001b[0m\n",
            "\u001b[0;32m<ipython-input-52-7364130c1f1b>\u001b[0m in \u001b[0;36mevaluate\u001b[0;34m(self, X, targets)\u001b[0m\n\u001b[1;32m    106\u001b[0m \u001b[0;34m\u001b[0m\u001b[0m\n\u001b[1;32m    107\u001b[0m       \u001b[0;32mfor\u001b[0m \u001b[0mcl\u001b[0m \u001b[0;32min\u001b[0m \u001b[0mrange\u001b[0m\u001b[0;34m(\u001b[0m\u001b[0mlen\u001b[0m\u001b[0;34m(\u001b[0m\u001b[0mclasses\u001b[0m\u001b[0;34m)\u001b[0m\u001b[0;34m)\u001b[0m\u001b[0;34m:\u001b[0m\u001b[0;34m\u001b[0m\u001b[0;34m\u001b[0m\u001b[0m\n\u001b[0;32m--> 108\u001b[0;31m         \u001b[0mcounts\u001b[0m\u001b[0;34m.\u001b[0m\u001b[0mappend\u001b[0m\u001b[0;34m(\u001b[0m\u001b[0msum\u001b[0m\u001b[0;34m(\u001b[0m\u001b[0mmon\u001b[0m\u001b[0;34m.\u001b[0m\u001b[0mcount\u001b[0m\u001b[0;34m[\u001b[0m\u001b[0mcl\u001b[0m\u001b[0;34m,\u001b[0m\u001b[0mcl\u001b[0m\u001b[0;34m+\u001b[0m\u001b[0;36m1\u001b[0m\u001b[0;34m]\u001b[0m\u001b[0;34m)\u001b[0m\u001b[0;34m)\u001b[0m\u001b[0;34m\u001b[0m\u001b[0;34m\u001b[0m\u001b[0m\n\u001b[0m\u001b[1;32m    109\u001b[0m \u001b[0;34m\u001b[0m\u001b[0m\n\u001b[1;32m    110\u001b[0m       \u001b[0;32mif\u001b[0m \u001b[0mcounts\u001b[0m\u001b[0;34m.\u001b[0m\u001b[0mindex\u001b[0m\u001b[0;34m(\u001b[0m\u001b[0mmax\u001b[0m\u001b[0;34m(\u001b[0m\u001b[0mcounts\u001b[0m\u001b[0;34m)\u001b[0m\u001b[0;34m)\u001b[0m \u001b[0;34m==\u001b[0m \u001b[0mclasses\u001b[0m\u001b[0;34m.\u001b[0m\u001b[0mindex\u001b[0m\u001b[0;34m(\u001b[0m\u001b[0myt\u001b[0m\u001b[0;34m)\u001b[0m\u001b[0;34m:\u001b[0m\u001b[0;34m\u001b[0m\u001b[0;34m\u001b[0m\u001b[0m\n",
            "\u001b[0;32m/usr/local/lib/python3.10/dist-packages/brian2/core/variables.py\u001b[0m in \u001b[0;36m__getitem__\u001b[0;34m(self, item)\u001b[0m\n\u001b[1;32m    921\u001b[0m \u001b[0;34m\u001b[0m\u001b[0m\n\u001b[1;32m    922\u001b[0m     \u001b[0;32mdef\u001b[0m \u001b[0m__getitem__\u001b[0m\u001b[0;34m(\u001b[0m\u001b[0mself\u001b[0m\u001b[0;34m,\u001b[0m \u001b[0mitem\u001b[0m\u001b[0;34m)\u001b[0m\u001b[0;34m:\u001b[0m\u001b[0;34m\u001b[0m\u001b[0;34m\u001b[0m\u001b[0m\n\u001b[0;32m--> 923\u001b[0;31m         \u001b[0;32mreturn\u001b[0m \u001b[0mself\u001b[0m\u001b[0;34m.\u001b[0m\u001b[0mget_item\u001b[0m\u001b[0;34m(\u001b[0m\u001b[0mitem\u001b[0m\u001b[0;34m,\u001b[0m \u001b[0mlevel\u001b[0m\u001b[0;34m=\u001b[0m\u001b[0;36m1\u001b[0m\u001b[0;34m)\u001b[0m\u001b[0;34m\u001b[0m\u001b[0;34m\u001b[0m\u001b[0m\n\u001b[0m\u001b[1;32m    924\u001b[0m \u001b[0;34m\u001b[0m\u001b[0m\n\u001b[1;32m    925\u001b[0m     \u001b[0;32mdef\u001b[0m \u001b[0mset_item\u001b[0m\u001b[0;34m(\u001b[0m\u001b[0mself\u001b[0m\u001b[0;34m,\u001b[0m \u001b[0mitem\u001b[0m\u001b[0;34m,\u001b[0m \u001b[0mvalue\u001b[0m\u001b[0;34m,\u001b[0m \u001b[0mlevel\u001b[0m\u001b[0;34m=\u001b[0m\u001b[0;36m0\u001b[0m\u001b[0;34m,\u001b[0m \u001b[0mnamespace\u001b[0m\u001b[0;34m=\u001b[0m\u001b[0;32mNone\u001b[0m\u001b[0;34m)\u001b[0m\u001b[0;34m:\u001b[0m\u001b[0;34m\u001b[0m\u001b[0;34m\u001b[0m\u001b[0m\n",
            "\u001b[0;32m/usr/local/lib/python3.10/dist-packages/brian2/core/variables.py\u001b[0m in \u001b[0;36mget_item\u001b[0;34m(self, item, level, namespace)\u001b[0m\n\u001b[1;32m    913\u001b[0m                 )\n\u001b[1;32m    914\u001b[0m             \u001b[0;32melse\u001b[0m\u001b[0;34m:\u001b[0m\u001b[0;34m\u001b[0m\u001b[0;34m\u001b[0m\u001b[0m\n\u001b[0;32m--> 915\u001b[0;31m                 \u001b[0mvalues\u001b[0m \u001b[0;34m=\u001b[0m \u001b[0mself\u001b[0m\u001b[0;34m.\u001b[0m\u001b[0mget_with_index_array\u001b[0m\u001b[0;34m(\u001b[0m\u001b[0mitem\u001b[0m\u001b[0;34m)\u001b[0m\u001b[0;34m\u001b[0m\u001b[0;34m\u001b[0m\u001b[0m\n\u001b[0m\u001b[1;32m    916\u001b[0m \u001b[0;34m\u001b[0m\u001b[0m\n\u001b[1;32m    917\u001b[0m         \u001b[0;32mif\u001b[0m \u001b[0mself\u001b[0m\u001b[0;34m.\u001b[0m\u001b[0mdim\u001b[0m \u001b[0;32mis\u001b[0m \u001b[0mDIMENSIONLESS\u001b[0m \u001b[0;32mor\u001b[0m \u001b[0mself\u001b[0m\u001b[0;34m.\u001b[0m\u001b[0mdim\u001b[0m \u001b[0;32mis\u001b[0m \u001b[0;32mNone\u001b[0m\u001b[0;34m:\u001b[0m\u001b[0;34m\u001b[0m\u001b[0;34m\u001b[0m\u001b[0m\n",
            "\u001b[0;32m/usr/local/lib/python3.10/dist-packages/brian2/core/base.py\u001b[0m in \u001b[0;36mdevice_override_decorated_function\u001b[0;34m(*args, **kwds)\u001b[0m\n\u001b[1;32m    333\u001b[0m                 \u001b[0;32mreturn\u001b[0m \u001b[0mgetattr\u001b[0m\u001b[0;34m(\u001b[0m\u001b[0mcurdev\u001b[0m\u001b[0;34m,\u001b[0m \u001b[0mname\u001b[0m\u001b[0;34m)\u001b[0m\u001b[0;34m(\u001b[0m\u001b[0;34m*\u001b[0m\u001b[0margs\u001b[0m\u001b[0;34m,\u001b[0m \u001b[0;34m**\u001b[0m\u001b[0mkwds\u001b[0m\u001b[0;34m)\u001b[0m\u001b[0;34m\u001b[0m\u001b[0;34m\u001b[0m\u001b[0m\n\u001b[1;32m    334\u001b[0m             \u001b[0;32melse\u001b[0m\u001b[0;34m:\u001b[0m\u001b[0;34m\u001b[0m\u001b[0;34m\u001b[0m\u001b[0m\n\u001b[0;32m--> 335\u001b[0;31m                 \u001b[0;32mreturn\u001b[0m \u001b[0mfunc\u001b[0m\u001b[0;34m(\u001b[0m\u001b[0;34m*\u001b[0m\u001b[0margs\u001b[0m\u001b[0;34m,\u001b[0m \u001b[0;34m**\u001b[0m\u001b[0mkwds\u001b[0m\u001b[0;34m)\u001b[0m\u001b[0;34m\u001b[0m\u001b[0;34m\u001b[0m\u001b[0m\n\u001b[0m\u001b[1;32m    336\u001b[0m \u001b[0;34m\u001b[0m\u001b[0m\n\u001b[1;32m    337\u001b[0m         \u001b[0mdevice_override_decorated_function\u001b[0m\u001b[0;34m.\u001b[0m\u001b[0moriginal_function\u001b[0m \u001b[0;34m=\u001b[0m \u001b[0mfunc\u001b[0m\u001b[0;34m\u001b[0m\u001b[0;34m\u001b[0m\u001b[0m\n",
            "\u001b[0;32m/usr/local/lib/python3.10/dist-packages/brian2/core/variables.py\u001b[0m in \u001b[0;36mget_with_index_array\u001b[0;34m(self, item)\u001b[0m\n\u001b[1;32m   1235\u001b[0m                 \u001b[0;32mreturn\u001b[0m \u001b[0mvariable\u001b[0m\u001b[0;34m.\u001b[0m\u001b[0mget_value\u001b[0m\u001b[0;34m(\u001b[0m\u001b[0;34m)\u001b[0m\u001b[0;34m[\u001b[0m\u001b[0mself\u001b[0m\u001b[0;34m.\u001b[0m\u001b[0mindex_var\u001b[0m\u001b[0;34m.\u001b[0m\u001b[0mget_value\u001b[0m\u001b[0;34m(\u001b[0m\u001b[0;34m)\u001b[0m\u001b[0;34m]\u001b[0m\u001b[0;34m[\u001b[0m\u001b[0mitem\u001b[0m\u001b[0;34m]\u001b[0m\u001b[0;34m\u001b[0m\u001b[0;34m\u001b[0m\u001b[0m\n\u001b[1;32m   1236\u001b[0m         \u001b[0;32melse\u001b[0m\u001b[0;34m:\u001b[0m\u001b[0;34m\u001b[0m\u001b[0;34m\u001b[0m\u001b[0m\n\u001b[0;32m-> 1237\u001b[0;31m             \u001b[0mindices\u001b[0m \u001b[0;34m=\u001b[0m \u001b[0mself\u001b[0m\u001b[0;34m.\u001b[0m\u001b[0mindexing\u001b[0m\u001b[0;34m(\u001b[0m\u001b[0mitem\u001b[0m\u001b[0;34m,\u001b[0m \u001b[0mself\u001b[0m\u001b[0;34m.\u001b[0m\u001b[0mindex_var\u001b[0m\u001b[0;34m)\u001b[0m\u001b[0;34m\u001b[0m\u001b[0;34m\u001b[0m\u001b[0m\n\u001b[0m\u001b[1;32m   1238\u001b[0m \u001b[0;34m\u001b[0m\u001b[0m\n\u001b[1;32m   1239\u001b[0m         \u001b[0;32mreturn\u001b[0m \u001b[0mvariable\u001b[0m\u001b[0;34m.\u001b[0m\u001b[0mget_value\u001b[0m\u001b[0;34m(\u001b[0m\u001b[0;34m)\u001b[0m\u001b[0;34m[\u001b[0m\u001b[0mindices\u001b[0m\u001b[0;34m]\u001b[0m\u001b[0;34m\u001b[0m\u001b[0;34m\u001b[0m\u001b[0m\n",
            "\u001b[0;32m/usr/local/lib/python3.10/dist-packages/brian2/groups/group.py\u001b[0m in \u001b[0;36m__call__\u001b[0;34m(self, item, index_var)\u001b[0m\n\u001b[1;32m    255\u001b[0m \u001b[0;34m\u001b[0m\u001b[0m\n\u001b[1;32m    256\u001b[0m         \u001b[0;32mif\u001b[0m \u001b[0misinstance\u001b[0m\u001b[0;34m(\u001b[0m\u001b[0mitem\u001b[0m\u001b[0;34m,\u001b[0m \u001b[0mtuple\u001b[0m\u001b[0;34m)\u001b[0m\u001b[0;34m:\u001b[0m\u001b[0;34m\u001b[0m\u001b[0;34m\u001b[0m\u001b[0m\n\u001b[0;32m--> 257\u001b[0;31m             raise IndexError(\n\u001b[0m\u001b[1;32m    258\u001b[0m                 \u001b[0;34mf\"Can only interpret 1-d indices, got {len(item)} dimensions.\"\u001b[0m\u001b[0;34m\u001b[0m\u001b[0;34m\u001b[0m\u001b[0m\n\u001b[1;32m    259\u001b[0m             )\n",
            "\u001b[0;31mIndexError\u001b[0m: Can only interpret 1-d indices, got 2 dimensions."
          ]
        }
      ]
    }
  ]
}