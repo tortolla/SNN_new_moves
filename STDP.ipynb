{
  "nbformat": 4,
  "nbformat_minor": 0,
  "metadata": {
    "colab": {
      "provenance": []
    },
    "kernelspec": {
      "name": "python3",
      "display_name": "Python 3"
    },
    "language_info": {
      "name": "python"
    }
  },
  "cells": [
    {
      "cell_type": "code",
      "execution_count": null,
      "metadata": {
        "id": "OwsNgoej89ZP"
      },
      "outputs": [],
      "source": [
        "import numpy as np\n",
        "import matplotlib.pyplot as plt\n",
        "\n",
        "# Функция для расчета изменения веса в зависимости от временной разницы\n",
        "def stdp_change(delta_t, lr1, lr2, Apre=0.01, Apost=-0.0105, taupre=20, taupost=20):\n",
        "    if delta_t >= 0:\n",
        "        return lr1 * Apre * np.exp(-np.abs(delta_t) / taupre)\n",
        "    else:\n",
        "        return lr2 * Apost * np.exp(-np.abs(delta_t) / taupost)\n",
        "\n",
        "# Параметры моделирования\n",
        "delta_ts = np.linspace(-50, 50, 1000)  # временная разница между спайками\n",
        "parameters = [(1, 1), (-1, -1), (-1, 1), (1, -1)]  # Комбинации lr1, lr2\n",
        "\n",
        "# Создание и настройка фигуры для графиков\n",
        "fig, axs = plt.subplots(2, 2, figsize=(10, 8))\n",
        "fig.suptitle('STDP Weight Change for Different lr1, lr2 Parameters')\n",
        "\n",
        "for ax, (lr1, lr2) in zip(axs.flatten(), parameters):\n",
        "    changes = [stdp_change(dt, lr1, lr2) for dt in delta_ts]\n",
        "    ax.plot(delta_ts, changes)\n",
        "    ax.set_title(f'lr1={lr1}, lr2={lr2}')\n",
        "    ax.set_xlabel('Time Difference (ms)')\n",
        "    ax.set_ylabel('Weight Change')\n",
        "    ax.grid(True)\n",
        "\n",
        "plt.tight_layout(rect=[0, 0.03, 1, 0.95])\n",
        "plt.show()\n"
      ]
    }
  ]
}