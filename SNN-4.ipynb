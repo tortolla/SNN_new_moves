{
  "nbformat": 4,
  "nbformat_minor": 0,
  "metadata": {
    "colab": {
      "provenance": [],
      "collapsed_sections": [
        "i_1X7qarNK8n"
      ]
    },
    "kernelspec": {
      "name": "python3",
      "display_name": "Python 3"
    },
    "language_info": {
      "name": "python"
    }
  },
  "cells": [
    {
      "cell_type": "markdown",
      "source": [
        "#Задаем параметры нейронов, их модель, параметры STDP и модель STDP#"
      ],
      "metadata": {
        "id": "Zx991HnVL1dK"
      }
    },
    {
      "cell_type": "code",
      "source": [
        "!pip install brian2"
      ],
      "metadata": {
        "colab": {
          "base_uri": "https://localhost:8080/"
        },
        "id": "jzZl14jTxi6m",
        "outputId": "eb89f595-1d71-461a-96ae-e534f1b40ce6"
      },
      "execution_count": null,
      "outputs": [
        {
          "output_type": "stream",
          "name": "stdout",
          "text": [
            "Collecting brian2\n",
            "  Downloading Brian2-2.6.0-cp310-cp310-manylinux_2_17_x86_64.manylinux2014_x86_64.whl (1.8 MB)\n",
            "\u001b[2K     \u001b[90m━━━━━━━━━━━━━━━━━━━━━━━━━━━━━━━━━━━━━━━━\u001b[0m \u001b[32m1.8/1.8 MB\u001b[0m \u001b[31m4.4 MB/s\u001b[0m eta \u001b[36m0:00:00\u001b[0m\n",
            "\u001b[?25hRequirement already satisfied: numpy>=1.21 in /usr/local/lib/python3.10/dist-packages (from brian2) (1.25.2)\n",
            "Requirement already satisfied: cython>=0.29.21 in /usr/local/lib/python3.10/dist-packages (from brian2) (3.0.9)\n",
            "Requirement already satisfied: sympy>=1.2 in /usr/local/lib/python3.10/dist-packages (from brian2) (1.12)\n",
            "Requirement already satisfied: pyparsing in /usr/local/lib/python3.10/dist-packages (from brian2) (3.1.2)\n",
            "Requirement already satisfied: jinja2>=2.7 in /usr/local/lib/python3.10/dist-packages (from brian2) (3.1.3)\n",
            "Requirement already satisfied: setuptools>=61 in /usr/local/lib/python3.10/dist-packages (from brian2) (67.7.2)\n",
            "Requirement already satisfied: packaging in /usr/local/lib/python3.10/dist-packages (from brian2) (24.0)\n",
            "Requirement already satisfied: MarkupSafe>=2.0 in /usr/local/lib/python3.10/dist-packages (from jinja2>=2.7->brian2) (2.1.5)\n",
            "Requirement already satisfied: mpmath>=0.19 in /usr/local/lib/python3.10/dist-packages (from sympy>=1.2->brian2) (1.3.0)\n",
            "Installing collected packages: brian2\n",
            "Successfully installed brian2-2.6.0\n"
          ]
        }
      ]
    },
    {
      "cell_type": "code",
      "source": [
        "from tensorflow.keras.datasets import mnist\n",
        "#from keras.datasets import mnist\n",
        "from brian2 import *\n",
        "import brian2.numpy_ as np\n",
        "import matplotlib.pyplot as plt\n",
        "from sklearn.ensemble import RandomForestClassifier\n",
        "from sklearn.metrics import accuracy_score, confusion_matrix\n",
        "\n",
        "import time\n",
        "import random"
      ],
      "metadata": {
        "id": "WwMHria_w532"
      },
      "execution_count": null,
      "outputs": []
    },
    {
      "cell_type": "code",
      "execution_count": null,
      "metadata": {
        "id": "MSDZKB2DLvKo"
      },
      "outputs": [],
      "source": [
        "n_input = 13*13 #количество входных нейронов\n",
        "n_output = 4 #количество выходных нейронов\n",
        "\n",
        "\"\"\"\n",
        "Задаем параметры модели возбуждающих нейронов\n",
        "\"\"\"\n",
        "\n",
        "v_rest_e = -60.*mV #потенциал покоя  - нейрон стремится к нему без внешнего возбуждения\n",
        "v_reset_e = -65.*mV #потенциал сброса  - потенцаил нейрона сбрасывается до него после испускания спайка\n",
        "v_thresh_e = -52.*mV #потенциал порога генерации  - уровень при потенциала, при котором нейрон генерирует свой спайк\n",
        "tau_ = 100*ms #определяет скорость реакции на входные изменения, а так же насколько быстро нейрон возвращается к своему начальному состоянию после спайка\n",
        "tau_ = 150*ms # Более длительная временная константа в контексте адаптации порогового потенциала означает, что нейрон медленно адаптируется к изменениям во входной активности. Это может быть полезно для предотвращения чрезмерной реактивности нейрона на кратковременные или незначительные изменения во входных сигналах.\n",
        "\n",
        "\n",
        "\"\"\"\n",
        "Задаем параметры STDP\n",
        "\"\"\"\n",
        "\n",
        "lr1 = 1 #коэффициент определяющий скорость обучения в модели STDP - насколько увеличивается вес, если первым активируется пресинаптический нейрон\n",
        "lr2 = 1 #коэффициент определяющий скорость обучения в модели STDP - насколько уменьшается вес, если первым активируется постсинаптический нейрон\n",
        "taupre = 20*ms #определяет время, в течение которого влияние пресинаптического спайка на синаптический вес сохраняется после его произошествия.\n",
        "taupost = taupre # определяет время, в течение которого влияние пресинаптического спайка на синаптический вес сохраняется после его произошествия.\n",
        "gmax = .05 #максимальное значение, которое может достичь синаптическая связь\n",
        "dApre = .01 #отражает вклад пресинаптчиеского спайка\n",
        "dApost = -dApre * taupre / taupost * 1.05\n",
        "dApost *= gmax #масштабирование треккеров синаптческого веса, чтобы они изменялись соответственно максимальному значению веса\n",
        "dApre *= gmax #масштабирование треккеров синаптческого веса, чтобы они изменялись соответственно максимальному значению веса\n",
        "\n",
        "\n",
        "\"\"\"\n",
        "Задаем модель возбуждающего нейрона\n",
        "\"\"\"\n",
        "\n",
        "neuron_e = '''\n",
        "            dv/dt = (ge*(0*mV-v) + (v_rest_e-v)) / (100*ms) : volt\n",
        "            dvt/dt = (v_thresh_e-vt)/(150*ms) : volt\n",
        "            dge/dt = -ge / (5*ms) : 1\n",
        "            '''\n",
        "\n",
        "\"\"\"\n",
        "Задаем адаптивный порог\n",
        "\"\"\"\n",
        "\n",
        "reset_e = '''\n",
        "        v = v_reset_e\n",
        "        vt += 3*mV\n",
        "        '''\n",
        "\n",
        "\"\"\"\n",
        "Задаем модель STDP\n",
        "\"\"\"\n",
        "\n",
        "stdp='''w : 1\n",
        "    lr1 : 1\n",
        "    lr2 : 1\n",
        "    dApre/dt = -Apre / taupre : 1 (event-driven)\n",
        "    dApost/dt = -Apost / taupost : 1 (event-driven)'''\n",
        "pre='''ge += w\n",
        "    Apre += dApre\n",
        "    w = clip(w + lr1*Apost, 0, gmax)'''\n",
        "post='''Apost += dApost\n",
        "    w = clip(w + lr2*Apre, 0, gmax)'''"
      ]
    },
    {
      "cell_type": "markdown",
      "source": [
        "#Создаем класс модели#"
      ],
      "metadata": {
        "id": "1wcgBV7rTPVo"
      }
    },
    {
      "cell_type": "markdown",
      "source": [
        "В данной модели используется концепция подгрупп нейронов, где каждая подгруппа возбуждающих нейронов ассоциирована с определенным классом. Это означает, что во время обучения активность нейронов модулируется в зависимости от того, соответствует ли подгруппа текущему целевому классу обрабатываемого образца"
      ],
      "metadata": {
        "id": "btefOcGlvE4E"
      }
    },
    {
      "cell_type": "code",
      "source": [
        "class Model():\n",
        "\n",
        "  def __init__(self, debug = False):\n",
        "\n",
        "    app = {}\n",
        "\n",
        "    app['PG'] = PoissonGroup(n_input, rates=np.zeros(n_input)*Hz, name='PG') #создаем входные Пуассоновские нейроны, пропорциональные яркости изображения\n",
        "\n",
        "    app['out_ne'] = NeuronGroup(n_output, neuron_e, threshold='v>vt', refractory=5*ms, reset=reset_e, method='euler', name='out_ne') #создадим выходные нейроны\n",
        "\n",
        "    \"\"\"\n",
        "    Соеденяем Пуассоновские нейроны с выходными нейронами\n",
        "    \"\"\"\n",
        "\n",
        "    for cl in range(n_output):\n",
        "\n",
        "            app[f'S1_{cl}'] = Synapses(app['PG'], app['out_neu'][cl:cl+1], stdp, on_pre=pre, on_post=post, method='euler', name=f'S1_{cl}') #создаем синапсы между входными нейронами и выходными нейронами\n",
        "            app[f'S1_{cl}'].connect() #соеденяем нейроны синапсами\n",
        "            app[f'S1_{cl}'].w = 'rand()*gmax' #инициализируем веса\n",
        "            app[f'S1_{cl}'].lr1 = 1 #скорость обучения\n",
        "            app[f'S1_{cl}'].lr2 = 1 #скорость обучения\n",
        "\n",
        "\n",
        "    #создаем свою сеть в brian2\n",
        "    self.net = Network(app.values())\n",
        "    self.net.run(0*second)\n",
        "\n",
        "    \"\"\"\n",
        "    Вспомогательная функция, чтобы удобней было обращаться к отдельным структурам модели по имени обьекта класса\n",
        "    \"\"\"\n",
        "\n",
        "    def __getitem__(self, key):\n",
        "        return self.net[key]\n",
        "\n",
        "    \"\"\"\n",
        "    Функция для тренировки SNN\n",
        "\n",
        "    Входные данные:\n",
        "\n",
        "    X - тренировачная часть датасета\n",
        "    targets - метки тренировочной части датасета\n",
        "    epochs - количество эпох для обучения\n",
        "    \"\"\"\n",
        "\n",
        "    def train(self, X, targets, epochs):\n",
        "\n",
        "      for ep in range(epochs):\n",
        "        for idx in range(len(X)):\n",
        "\n",
        "          yt = int(targets[idx]) #ground truth\n",
        "\n",
        "          for cl in range (len(n_output)):\n",
        "\n",
        "            if cl == n_output.index(yt):\n",
        "\n",
        "              self.net[f'S1_{cl}'].lr1 = 1 #STDP - устанавливаем параметры скорости обучения\n",
        "              self.net[f'S1_{cl}'].lr2 = 1 #STDP - устанавливаем параметры скорости обучения\n",
        "\n",
        "            else:\n",
        "\n",
        "              self.net[f'S1_{cl}'].lr1 = 0 #STDP - устанавливаем параметры скорости обучения\n",
        "              self.net[f'S1_{cl}'].lr2 = -1 #STDP - устанавливаем параметры скорости обучения\n",
        "\n",
        "            self.net['PG'].rates = X[idx].ravel()*Hz #устанавливаем Пуассоновские нейроны на нужное значение\n",
        "            self.net.run(0.35*second) #запускаем численный эксперимент на определенное время\n",
        "\n",
        "            self.net['PG'].rates = np.zeros(n_input)*Hz #переводим сеть в пассивное состояние - все Пуассоновские нейроны перестают генерировать спайки\n",
        "            self.net.run(0.15*second) #запускаем численный эксперимент на короткое время, чтобы стабилизировать сеть\n",
        "\n",
        "\n",
        "      \"\"\"\n",
        "      Функция оценки точности спайковой нейронной сети\n",
        "\n",
        "      Входные данные:\n",
        "\n",
        "      X - тестовая часть датасета\n",
        "      targets - метки тестовой части датасета\n",
        "      \"\"\"\n",
        "\n",
        "      def evaluate(self, X, targets):\n",
        "\n",
        "        for cl in range(len(n_output)):\n",
        "\n",
        "          self.net[f'S1_{cl}'].lr1 = 0 #выключаем STDP\n",
        "          self.net[f'S1_{cl}'].lr2 = 0 #выключаем STDP\n",
        "\n",
        "        true_ans = 0 #количество правильно классифицированных картинок\n",
        "\n",
        "        for idx in range(len(X)):\n",
        "\n",
        "          yt = int(targets[idx]) #забираем правильные метки\n",
        "\n",
        "          #предсказание SNN определяем по нейрону с наибольшим количеством выходных спайков\n",
        "\n",
        "          mon = SpikeMonitor(self.net['out_ne'], record=False, name='RM')\n",
        "          self.net.add(mon) #добавляем монитор\n",
        "\n",
        "          counts = [] #массив спайков выходных нейронов\n",
        "\n",
        "          for cl in range(len(n_output)):\n",
        "            counts.append(sum(mon.count[cl,cl+1]))\n",
        "\n",
        "          if counts.index(max(counts)) == classes.index(yt):\n",
        "            true_ans+=1\n",
        "\n",
        "          #возвразаем систему в пассивный режим для стабильности\n",
        "\n",
        "          self.net['PG'].rates = np.zeros(n_input)*Hz\n",
        "          self.net.run(0.15*second)\n",
        "\n",
        "          self.net.remove(self.net['RM']) #освобождаем память от монитора\n",
        "\n",
        "        return true_ans/len(X)\n"
      ],
      "metadata": {
        "id": "lJbcmA2f7zfZ"
      },
      "execution_count": null,
      "outputs": []
    },
    {
      "cell_type": "markdown",
      "source": [
        "#Основной процесс - обучение и тестирование модели#"
      ],
      "metadata": {
        "id": "i_1X7qarNK8n"
      }
    },
    {
      "cell_type": "code",
      "source": [
        "\"\"\"\n",
        "Функция, которая реализует процесс обучения и тестирования модели\n",
        "Входные данные:\n",
        "\n",
        "train_items - количество тренировочных картинок\n",
        "test_items - количество тестовых картинок\n",
        "\n",
        "\"\"\"\n",
        "\n",
        "def train_test(x_train, x_test, y_train, y_test):\n",
        "\n",
        "  model = Model()\n",
        "  model.train(x_train, y_train, epoch = 10)\n",
        "\n",
        "  accuracy = model.evaluate(x_test, y_test)\n",
        "\n",
        "  print(f\"Accuracy of SNN is:{accuracy}\")\n",
        "\n",
        "\n",
        "start = time.time()\n",
        "#test1(x_train, x_test, y_train, y_test)\n",
        "end = time.time()\n",
        "print('SNN time:', end - start)"
      ],
      "metadata": {
        "id": "G0tKV7WyNR1h"
      },
      "execution_count": null,
      "outputs": []
    }
  ]
}